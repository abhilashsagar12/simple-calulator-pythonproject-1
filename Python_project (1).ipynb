{
  "nbformat": 4,
  "nbformat_minor": 0,
  "metadata": {
    "colab": {
      "provenance": []
    },
    "kernelspec": {
      "name": "python3",
      "display_name": "Python 3"
    },
    "language_info": {
      "name": "python"
    }
  },
  "cells": [
    {
      "cell_type": "code",
      "execution_count": null,
      "metadata": {
        "id": "y--xMPULJx38"
      },
      "outputs": [],
      "source": []
    },
    {
      "cell_type": "markdown",
      "source": [
        "# SIMPLE CALUCULATOR   PYTHON WORKSHOP"
      ],
      "metadata": {
        "id": "X1mnWFhqLppW"
      }
    },
    {
      "cell_type": "code",
      "source": [
        "def add(x, y):\n",
        "    return x + y\n",
        "\n",
        "def subtract(x, y):\n",
        "    return x - y\n",
        "\n",
        "def multiply(x, y):\n",
        "    return x * y\n",
        "\n",
        "def divide(x, y):\n",
        "  if y != 0:\n",
        "    return x / y\n",
        "  else:\n",
        "    return \"Error: Division by zero\"\n",
        "\n",
        "    def caluculator():\n",
        "      print(\"simple caluculator\")\n",
        "      print(\"choose operation\")\n",
        "      print(\"1. Add\")\n",
        "      print(\"2. Subtract\")\n",
        "      print(\"3. Multiply\")\n",
        "      print(\"4. Divide\")\n",
        "      while True:\n",
        "        choice = input(\"Enter choice (1/2/3/4): \")\n",
        "\n",
        "        if choice in ('1', '2', '3', '4'):\n",
        "          num1 = float(input(\"Enter first number: \"))\n",
        "          num2 = float(input(\"Enter second number: \"))\n",
        "\n",
        "          if choice == '1':\n",
        "            print(f\"the result is: {add(num1, num2)}\")\n",
        "          elif choice == '2':\n",
        "            print(f\"the result is: {subtract(num1, num2)}\")\n",
        "          elif choice == '3':\n",
        "            print(f\"the result is: {multiply(num1, num2)}\")\n",
        "          elif choice == '4':\n",
        "            print(f\"the result is: {divide(num1, num2)}\")\n",
        "\n",
        "          next_calculation = input(\"do you want to perform another calculation? (yes/no): \")\n",
        "          if next_calculation.lower() != 'yes':\n",
        "              break\n",
        "        else:\n",
        "          print(\"invalid input\")\n"
      ],
      "metadata": {
        "id": "7L_KUBmnLvvO"
      },
      "execution_count": 57,
      "outputs": []
    },
    {
      "cell_type": "code",
      "source": [],
      "metadata": {
        "id": "NuAOf4MmMiu9"
      },
      "execution_count": 55,
      "outputs": []
    },
    {
      "cell_type": "code",
      "source": [],
      "metadata": {
        "id": "CjOrSms7Tn2D"
      },
      "execution_count": null,
      "outputs": []
    }
  ]
}